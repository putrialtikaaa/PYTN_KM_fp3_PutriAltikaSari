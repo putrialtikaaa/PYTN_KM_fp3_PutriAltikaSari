{
 "cells": [
  {
   "cell_type": "markdown",
   "metadata": {},
   "source": [
    "# FINAL PROJECT 3: Ensemble Model (Random Forest)"
   ]
  },
  {
   "cell_type": "markdown",
   "metadata": {},
   "source": [
    "NATHANIA GUNAWAN        (PYTN-KS09-006) <BR>\n",
    "PUTRI ALTIKA SARI       (PYTN-KS09-020) <BR>\n",
    "AUDI MAYORI             (PYTN-KS09-011)"
   ]
  },
  {
   "cell_type": "markdown",
   "metadata": {},
   "source": [
    "## <font color=#FF7913>A. Perkenalan"
   ]
  },
  {
   "cell_type": "markdown",
   "metadata": {},
   "source": [
    "Penyakit kardiovaskular (CVDs) adalah penyebab kematian nomor 1 secara global, merenggut sekitar 17,9 juta nyawa setiap tahun, yang merupakan 31% dari semua kematian di seluruh dunia.\n",
    "Gagal jantung adalah kejadian umum yang disebabkan oleh CVD dan kumpulan data ini berisi 12 fitur yang dapat digunakan untuk memprediksi kematian akibat gagal jantung.\n",
    "\n",
    "Sebagian besar penyakit kardiovaskular dapat dicegah dengan mengatasi faktor risiko perilaku seperti penggunaan tembakau, pola makan yang tidak sehat dan obesitas, kurangnya aktivitas fisik, dan penggunaan alkohol yang berbahaya dengan menggunakan strategi populasi luas.\n",
    "\n",
    "Orang dengan penyakit kardiovaskular atau yang memiliki risiko kardiovaskular tinggi (karena adanya satu atau lebih faktor risiko seperti hipertensi, diabetes, hiperlipidemia, atau penyakit yang sudah ada) memerlukan deteksi dan penanganan dini di mana model pembelajaran mesin dapat sangat membantu."
   ]
  },
  {
   "cell_type": "markdown",
   "metadata": {},
   "source": [
    "## Tentang Dataset"
   ]
  },
  {
   "cell_type": "markdown",
   "metadata": {},
   "source": [
    "Database ini memiliki 13 atribut.Tujuan dari project ini adalah memprediksi mortalitas akibat gagal jantung dengan menggunakan Ensemble Model (Random Forest dan Boosting)."
   ]
  },
  {
   "cell_type": "markdown",
   "metadata": {},
   "source": [
    "## Informasi Atribut"
   ]
  },
  {
   "cell_type": "markdown",
   "metadata": {},
   "source": [
    "1. age - umur pasien\n",
    "2. anaemia - apakah ada pengurangan haemoglobin\n",
    "3. creatinine_phosphokinase - level enzim CPK dalam mcg/L\n",
    "4. diabetes - apakah pasien punya riwayat diabetes\n",
    "5. ejection_fraction - persentase darah yang meninggalkan jantung dalam persentasi di setiap kontraksi jantung\n",
    "6. high_blood_pressure - apakah pasien punya darah tinggi\n",
    "7. platelets - jumlah platelet di darah dalam kiloplatelets/mL\n",
    "8. serum_creatinine - level serum creatinine di darah dalam mg/dL\n",
    "9. serum_sodium - level serum sodium di darah dalam mEq/L\n",
    "10. sex - apakah pasien pria atau wanita\n",
    "11. smoking - apakah pasien merokok\n",
    "12. time - waktu dalam hari untuk follow-up\n",
    "13. DEATH_EVENT - apakah pasien sudah meninggal saat waktu follow-up"
   ]
  },
  {
   "cell_type": "markdown",
   "metadata": {},
   "source": [
    "## Objektif"
   ]
  },
  {
   "cell_type": "markdown",
   "metadata": {},
   "source": [
    "Final Project 3 ini dibuat guna mengevaluasi konsep ensemble sebagai berikut:\n",
    "1.Mampu memahami konsep klasifikasi melalui ensemble model\n",
    "2.Mampu menyiapkan data untuk digunakan dalam ensemble model\n",
    "3.Mampu menerapkan ensemble model untuk prediksi"
   ]
  },
  {
   "cell_type": "markdown",
   "metadata": {},
   "source": [
    "## <font color=#FF7913>B.Import Package"
   ]
  },
  {
   "cell_type": "code",
   "execution_count": 1,
   "metadata": {},
   "outputs": [],
   "source": [
    "import pandas as pd\n",
    "from matplotlib import pyplot as plt\n",
    "import numpy as np\n",
    "import seaborn as sns\n",
    "\n",
    "from sklearn import preprocessing\n",
    "from sklearn.model_selection import train_test_split\n",
    "from sklearn.metrics import classification_report, confusion_matrix\n",
    "from sklearn.preprocessing import StandardScaler\n",
    "from sklearn import metrics\n",
    "from sklearn.ensemble import RandomForestClassifier\n",
    "\n",
    "import sys\n",
    "\n",
    "if not sys.warnoptions:\n",
    "    import warnings\n",
    "    warnings.simplefilter(\"ignore\")"
   ]
  },
  {
   "cell_type": "markdown",
   "metadata": {},
   "source": [
    "## <font color=#FF7913>C. Data Loading"
   ]
  },
  {
   "cell_type": "markdown",
   "metadata": {},
   "source": [
    "### <font color=#6C88C4> Read Dataframe"
   ]
  },
  {
   "cell_type": "code",
   "execution_count": 2,
   "metadata": {},
   "outputs": [
    {
     "data": {
      "text/html": [
       "<div>\n",
       "<style scoped>\n",
       "    .dataframe tbody tr th:only-of-type {\n",
       "        vertical-align: middle;\n",
       "    }\n",
       "\n",
       "    .dataframe tbody tr th {\n",
       "        vertical-align: top;\n",
       "    }\n",
       "\n",
       "    .dataframe thead th {\n",
       "        text-align: right;\n",
       "    }\n",
       "</style>\n",
       "<table border=\"1\" class=\"dataframe\">\n",
       "  <thead>\n",
       "    <tr style=\"text-align: right;\">\n",
       "      <th></th>\n",
       "      <th>age</th>\n",
       "      <th>anaemia</th>\n",
       "      <th>creatinine_phosphokinase</th>\n",
       "      <th>diabetes</th>\n",
       "      <th>ejection_fraction</th>\n",
       "      <th>high_blood_pressure</th>\n",
       "      <th>platelets</th>\n",
       "      <th>serum_creatinine</th>\n",
       "      <th>serum_sodium</th>\n",
       "      <th>sex</th>\n",
       "      <th>smoking</th>\n",
       "      <th>time</th>\n",
       "      <th>DEATH_EVENT</th>\n",
       "    </tr>\n",
       "  </thead>\n",
       "  <tbody>\n",
       "    <tr>\n",
       "      <th>0</th>\n",
       "      <td>75.0</td>\n",
       "      <td>0</td>\n",
       "      <td>582</td>\n",
       "      <td>0</td>\n",
       "      <td>20</td>\n",
       "      <td>1</td>\n",
       "      <td>265000.00</td>\n",
       "      <td>1.9</td>\n",
       "      <td>130</td>\n",
       "      <td>1</td>\n",
       "      <td>0</td>\n",
       "      <td>4</td>\n",
       "      <td>1</td>\n",
       "    </tr>\n",
       "    <tr>\n",
       "      <th>1</th>\n",
       "      <td>55.0</td>\n",
       "      <td>0</td>\n",
       "      <td>7861</td>\n",
       "      <td>0</td>\n",
       "      <td>38</td>\n",
       "      <td>0</td>\n",
       "      <td>263358.03</td>\n",
       "      <td>1.1</td>\n",
       "      <td>136</td>\n",
       "      <td>1</td>\n",
       "      <td>0</td>\n",
       "      <td>6</td>\n",
       "      <td>1</td>\n",
       "    </tr>\n",
       "    <tr>\n",
       "      <th>2</th>\n",
       "      <td>65.0</td>\n",
       "      <td>0</td>\n",
       "      <td>146</td>\n",
       "      <td>0</td>\n",
       "      <td>20</td>\n",
       "      <td>0</td>\n",
       "      <td>162000.00</td>\n",
       "      <td>1.3</td>\n",
       "      <td>129</td>\n",
       "      <td>1</td>\n",
       "      <td>1</td>\n",
       "      <td>7</td>\n",
       "      <td>1</td>\n",
       "    </tr>\n",
       "    <tr>\n",
       "      <th>3</th>\n",
       "      <td>50.0</td>\n",
       "      <td>1</td>\n",
       "      <td>111</td>\n",
       "      <td>0</td>\n",
       "      <td>20</td>\n",
       "      <td>0</td>\n",
       "      <td>210000.00</td>\n",
       "      <td>1.9</td>\n",
       "      <td>137</td>\n",
       "      <td>1</td>\n",
       "      <td>0</td>\n",
       "      <td>7</td>\n",
       "      <td>1</td>\n",
       "    </tr>\n",
       "    <tr>\n",
       "      <th>4</th>\n",
       "      <td>65.0</td>\n",
       "      <td>1</td>\n",
       "      <td>160</td>\n",
       "      <td>1</td>\n",
       "      <td>20</td>\n",
       "      <td>0</td>\n",
       "      <td>327000.00</td>\n",
       "      <td>2.7</td>\n",
       "      <td>116</td>\n",
       "      <td>0</td>\n",
       "      <td>0</td>\n",
       "      <td>8</td>\n",
       "      <td>1</td>\n",
       "    </tr>\n",
       "    <tr>\n",
       "      <th>...</th>\n",
       "      <td>...</td>\n",
       "      <td>...</td>\n",
       "      <td>...</td>\n",
       "      <td>...</td>\n",
       "      <td>...</td>\n",
       "      <td>...</td>\n",
       "      <td>...</td>\n",
       "      <td>...</td>\n",
       "      <td>...</td>\n",
       "      <td>...</td>\n",
       "      <td>...</td>\n",
       "      <td>...</td>\n",
       "      <td>...</td>\n",
       "    </tr>\n",
       "    <tr>\n",
       "      <th>294</th>\n",
       "      <td>62.0</td>\n",
       "      <td>0</td>\n",
       "      <td>61</td>\n",
       "      <td>1</td>\n",
       "      <td>38</td>\n",
       "      <td>1</td>\n",
       "      <td>155000.00</td>\n",
       "      <td>1.1</td>\n",
       "      <td>143</td>\n",
       "      <td>1</td>\n",
       "      <td>1</td>\n",
       "      <td>270</td>\n",
       "      <td>0</td>\n",
       "    </tr>\n",
       "    <tr>\n",
       "      <th>295</th>\n",
       "      <td>55.0</td>\n",
       "      <td>0</td>\n",
       "      <td>1820</td>\n",
       "      <td>0</td>\n",
       "      <td>38</td>\n",
       "      <td>0</td>\n",
       "      <td>270000.00</td>\n",
       "      <td>1.2</td>\n",
       "      <td>139</td>\n",
       "      <td>0</td>\n",
       "      <td>0</td>\n",
       "      <td>271</td>\n",
       "      <td>0</td>\n",
       "    </tr>\n",
       "    <tr>\n",
       "      <th>296</th>\n",
       "      <td>45.0</td>\n",
       "      <td>0</td>\n",
       "      <td>2060</td>\n",
       "      <td>1</td>\n",
       "      <td>60</td>\n",
       "      <td>0</td>\n",
       "      <td>742000.00</td>\n",
       "      <td>0.8</td>\n",
       "      <td>138</td>\n",
       "      <td>0</td>\n",
       "      <td>0</td>\n",
       "      <td>278</td>\n",
       "      <td>0</td>\n",
       "    </tr>\n",
       "    <tr>\n",
       "      <th>297</th>\n",
       "      <td>45.0</td>\n",
       "      <td>0</td>\n",
       "      <td>2413</td>\n",
       "      <td>0</td>\n",
       "      <td>38</td>\n",
       "      <td>0</td>\n",
       "      <td>140000.00</td>\n",
       "      <td>1.4</td>\n",
       "      <td>140</td>\n",
       "      <td>1</td>\n",
       "      <td>1</td>\n",
       "      <td>280</td>\n",
       "      <td>0</td>\n",
       "    </tr>\n",
       "    <tr>\n",
       "      <th>298</th>\n",
       "      <td>50.0</td>\n",
       "      <td>0</td>\n",
       "      <td>196</td>\n",
       "      <td>0</td>\n",
       "      <td>45</td>\n",
       "      <td>0</td>\n",
       "      <td>395000.00</td>\n",
       "      <td>1.6</td>\n",
       "      <td>136</td>\n",
       "      <td>1</td>\n",
       "      <td>1</td>\n",
       "      <td>285</td>\n",
       "      <td>0</td>\n",
       "    </tr>\n",
       "  </tbody>\n",
       "</table>\n",
       "<p>299 rows × 13 columns</p>\n",
       "</div>"
      ],
      "text/plain": [
       "      age  anaemia  creatinine_phosphokinase  diabetes  ejection_fraction  \\\n",
       "0    75.0        0                       582         0                 20   \n",
       "1    55.0        0                      7861         0                 38   \n",
       "2    65.0        0                       146         0                 20   \n",
       "3    50.0        1                       111         0                 20   \n",
       "4    65.0        1                       160         1                 20   \n",
       "..    ...      ...                       ...       ...                ...   \n",
       "294  62.0        0                        61         1                 38   \n",
       "295  55.0        0                      1820         0                 38   \n",
       "296  45.0        0                      2060         1                 60   \n",
       "297  45.0        0                      2413         0                 38   \n",
       "298  50.0        0                       196         0                 45   \n",
       "\n",
       "     high_blood_pressure  platelets  serum_creatinine  serum_sodium  sex  \\\n",
       "0                      1  265000.00               1.9           130    1   \n",
       "1                      0  263358.03               1.1           136    1   \n",
       "2                      0  162000.00               1.3           129    1   \n",
       "3                      0  210000.00               1.9           137    1   \n",
       "4                      0  327000.00               2.7           116    0   \n",
       "..                   ...        ...               ...           ...  ...   \n",
       "294                    1  155000.00               1.1           143    1   \n",
       "295                    0  270000.00               1.2           139    0   \n",
       "296                    0  742000.00               0.8           138    0   \n",
       "297                    0  140000.00               1.4           140    1   \n",
       "298                    0  395000.00               1.6           136    1   \n",
       "\n",
       "     smoking  time  DEATH_EVENT  \n",
       "0          0     4            1  \n",
       "1          0     6            1  \n",
       "2          1     7            1  \n",
       "3          0     7            1  \n",
       "4          0     8            1  \n",
       "..       ...   ...          ...  \n",
       "294        1   270            0  \n",
       "295        0   271            0  \n",
       "296        0   278            0  \n",
       "297        1   280            0  \n",
       "298        1   285            0  \n",
       "\n",
       "[299 rows x 13 columns]"
      ]
     },
     "execution_count": 2,
     "metadata": {},
     "output_type": "execute_result"
    }
   ],
   "source": [
    "df = pd.read_csv('C:/Users/ASUS/H8_Python_KS09_MSIB _3/FP3/dataset/heart_failure_clinical_records_dataset.csv')\n",
    "df"
   ]
  },
  {
   "cell_type": "markdown",
   "metadata": {},
   "source": [
    "### <font color=#6C88C4> General Info of Dataframe"
   ]
  },
  {
   "cell_type": "code",
   "execution_count": 3,
   "metadata": {
    "scrolled": false
   },
   "outputs": [
    {
     "name": "stdout",
     "output_type": "stream",
     "text": [
      "<class 'pandas.core.frame.DataFrame'>\n",
      "RangeIndex: 299 entries, 0 to 298\n",
      "Data columns (total 13 columns):\n",
      " #   Column                    Non-Null Count  Dtype  \n",
      "---  ------                    --------------  -----  \n",
      " 0   age                       299 non-null    float64\n",
      " 1   anaemia                   299 non-null    int64  \n",
      " 2   creatinine_phosphokinase  299 non-null    int64  \n",
      " 3   diabetes                  299 non-null    int64  \n",
      " 4   ejection_fraction         299 non-null    int64  \n",
      " 5   high_blood_pressure       299 non-null    int64  \n",
      " 6   platelets                 299 non-null    float64\n",
      " 7   serum_creatinine          299 non-null    float64\n",
      " 8   serum_sodium              299 non-null    int64  \n",
      " 9   sex                       299 non-null    int64  \n",
      " 10  smoking                   299 non-null    int64  \n",
      " 11  time                      299 non-null    int64  \n",
      " 12  DEATH_EVENT               299 non-null    int64  \n",
      "dtypes: float64(3), int64(10)\n",
      "memory usage: 30.5 KB\n"
     ]
    }
   ],
   "source": [
    "df.info()"
   ]
  },
  {
   "cell_type": "markdown",
   "metadata": {},
   "source": [
    "General information of the data:\n",
    "1. Semua kolom bertipe numerik\n",
    "2. Kolom anaemia, diabetes, high_blood_pressure, smoking, dan DEATH_EVENT memiliki value 0 dan 1 (0 artinya \"Tidak\", 1 artinya \"Ya\")\n",
    "3. Kolom sex juga memiliki value 0 dan 1 (0 artinya \"Wanita\", 1 artinya \"Pria\")"
   ]
  },
  {
   "cell_type": "markdown",
   "metadata": {},
   "source": [
    "## <font color=#FF7913>D. Data Cleaning"
   ]
  },
  {
   "cell_type": "markdown",
   "metadata": {},
   "source": [
    "### <font color=#6C88C4> Checking Duplicate Data"
   ]
  },
  {
   "cell_type": "code",
   "execution_count": 4,
   "metadata": {
    "scrolled": true
   },
   "outputs": [
    {
     "data": {
      "text/plain": [
       "0"
      ]
     },
     "execution_count": 4,
     "metadata": {},
     "output_type": "execute_result"
    }
   ],
   "source": [
    "df.duplicated().sum()"
   ]
  },
  {
   "cell_type": "markdown",
   "metadata": {},
   "source": [
    "Tidak terdapat data yang duplikat"
   ]
  },
  {
   "cell_type": "markdown",
   "metadata": {},
   "source": [
    "### <font color=#6C88C4> Checking Null Values, Filling Missing Data"
   ]
  },
  {
   "cell_type": "code",
   "execution_count": 5,
   "metadata": {
    "scrolled": false
   },
   "outputs": [
    {
     "data": {
      "text/html": [
       "<div>\n",
       "<style scoped>\n",
       "    .dataframe tbody tr th:only-of-type {\n",
       "        vertical-align: middle;\n",
       "    }\n",
       "\n",
       "    .dataframe tbody tr th {\n",
       "        vertical-align: top;\n",
       "    }\n",
       "\n",
       "    .dataframe thead th {\n",
       "        text-align: right;\n",
       "    }\n",
       "</style>\n",
       "<table border=\"1\" class=\"dataframe\">\n",
       "  <thead>\n",
       "    <tr style=\"text-align: right;\">\n",
       "      <th></th>\n",
       "      <th>No. of missing values</th>\n",
       "      <th>% missing_values</th>\n",
       "    </tr>\n",
       "  </thead>\n",
       "  <tbody>\n",
       "    <tr>\n",
       "      <th>age</th>\n",
       "      <td>0</td>\n",
       "      <td>0.0</td>\n",
       "    </tr>\n",
       "    <tr>\n",
       "      <th>anaemia</th>\n",
       "      <td>0</td>\n",
       "      <td>0.0</td>\n",
       "    </tr>\n",
       "    <tr>\n",
       "      <th>creatinine_phosphokinase</th>\n",
       "      <td>0</td>\n",
       "      <td>0.0</td>\n",
       "    </tr>\n",
       "    <tr>\n",
       "      <th>diabetes</th>\n",
       "      <td>0</td>\n",
       "      <td>0.0</td>\n",
       "    </tr>\n",
       "    <tr>\n",
       "      <th>ejection_fraction</th>\n",
       "      <td>0</td>\n",
       "      <td>0.0</td>\n",
       "    </tr>\n",
       "    <tr>\n",
       "      <th>high_blood_pressure</th>\n",
       "      <td>0</td>\n",
       "      <td>0.0</td>\n",
       "    </tr>\n",
       "    <tr>\n",
       "      <th>platelets</th>\n",
       "      <td>0</td>\n",
       "      <td>0.0</td>\n",
       "    </tr>\n",
       "    <tr>\n",
       "      <th>serum_creatinine</th>\n",
       "      <td>0</td>\n",
       "      <td>0.0</td>\n",
       "    </tr>\n",
       "    <tr>\n",
       "      <th>serum_sodium</th>\n",
       "      <td>0</td>\n",
       "      <td>0.0</td>\n",
       "    </tr>\n",
       "    <tr>\n",
       "      <th>sex</th>\n",
       "      <td>0</td>\n",
       "      <td>0.0</td>\n",
       "    </tr>\n",
       "    <tr>\n",
       "      <th>smoking</th>\n",
       "      <td>0</td>\n",
       "      <td>0.0</td>\n",
       "    </tr>\n",
       "    <tr>\n",
       "      <th>time</th>\n",
       "      <td>0</td>\n",
       "      <td>0.0</td>\n",
       "    </tr>\n",
       "    <tr>\n",
       "      <th>DEATH_EVENT</th>\n",
       "      <td>0</td>\n",
       "      <td>0.0</td>\n",
       "    </tr>\n",
       "  </tbody>\n",
       "</table>\n",
       "</div>"
      ],
      "text/plain": [
       "                          No. of missing values  % missing_values\n",
       "age                                           0               0.0\n",
       "anaemia                                       0               0.0\n",
       "creatinine_phosphokinase                      0               0.0\n",
       "diabetes                                      0               0.0\n",
       "ejection_fraction                             0               0.0\n",
       "high_blood_pressure                           0               0.0\n",
       "platelets                                     0               0.0\n",
       "serum_creatinine                              0               0.0\n",
       "serum_sodium                                  0               0.0\n",
       "sex                                           0               0.0\n",
       "smoking                                       0               0.0\n",
       "time                                          0               0.0\n",
       "DEATH_EVENT                                   0               0.0"
      ]
     },
     "execution_count": 5,
     "metadata": {},
     "output_type": "execute_result"
    }
   ],
   "source": [
    "missing = pd.DataFrame(df.isnull().sum(), columns=['No. of missing values'])\n",
    "missing['% missing_values'] = (missing/len(df)).round(2)*100\n",
    "missing"
   ]
  },
  {
   "cell_type": "markdown",
   "metadata": {},
   "source": [
    "Pada dataset ini tidak terdapat null values/missing values dan duplicate data, sehingga proses data cleaning tidak perlu dilakukan karena sudah layak untuk diproses."
   ]
  },
  {
   "cell_type": "markdown",
   "metadata": {},
   "source": [
    "## <font color=#FF7913>E. Explorasi Data "
   ]
  },
  {
   "cell_type": "markdown",
   "metadata": {},
   "source": [
    "### <font color=#6C88C4> Compare Mean of Several Criteria Between Dead and Alive Patients"
   ]
  },
  {
   "cell_type": "code",
   "execution_count": 6,
   "metadata": {},
   "outputs": [],
   "source": [
    "#Memisahkan dataframe DEATH_EVENT = 0 dan DEATH_EVENT = 1\n",
    "yes =df[df['DEATH_EVENT'] == 1]\n",
    "no = df[df['DEATH_EVENT'] == 0]"
   ]
  },
  {
   "cell_type": "code",
   "execution_count": 7,
   "metadata": {},
   "outputs": [],
   "source": [
    "#create new dataframe to compare the mean of several criterias\n",
    "dv1 = pd.DataFrame({\n",
    "    'Keterangan':[\"Dead\",\"Alive\"],\n",
    "    'age':[yes['age'].mean(),no['age'].mean()],\n",
    "    'creatinine_phosphokinase':[yes['creatinine_phosphokinase'].mean(),no['creatinine_phosphokinase'].mean()],\n",
    "    'ejection_fraction':[yes['ejection_fraction'].mean(),no['ejection_fraction'].mean()],\n",
    "    'platelets':[yes['platelets'].mean(),no['platelets'].mean()],\n",
    "    'serum_creatinine':[yes['serum_creatinine'].mean(),no['serum_creatinine'].mean()],\n",
    "    'serum_sodium':[yes['serum_sodium'].mean(),no['serum_sodium'].mean()]\n",
    "})\n",
    "dv1 = dv1.set_index(\"Keterangan\")"
   ]
  },
  {
   "cell_type": "code",
   "execution_count": 8,
   "metadata": {},
   "outputs": [],
   "source": [
    "#creating function to mark the higher value\n",
    "def highlight_max(s):\n",
    "    is_max = s == s.max()\n",
    "    font_color = 'blue'\n",
    "    font_weight = 'bold'\n",
    "    return ['color: {}; font-weight: {}'.format(font_color, font_weight) if cell else '' for cell in is_max]"
   ]
  },
  {
   "cell_type": "code",
   "execution_count": 9,
   "metadata": {
    "scrolled": true
   },
   "outputs": [
    {
     "data": {
      "text/html": [
       "<style type=\"text/css\">\n",
       "#T_4f87d_row0_col0, #T_4f87d_row0_col1, #T_4f87d_row0_col4 {\n",
       "  color: blue;\n",
       "  font-weight: bold;\n",
       "  background: #FFB3BA;\n",
       "}\n",
       "#T_4f87d_row0_col2, #T_4f87d_row0_col3, #T_4f87d_row0_col5 {\n",
       "  background: #FFB3BA;\n",
       "}\n",
       "#T_4f87d_row1_col0, #T_4f87d_row1_col1, #T_4f87d_row1_col4 {\n",
       "  background: #BAFFC9;\n",
       "}\n",
       "#T_4f87d_row1_col2, #T_4f87d_row1_col3, #T_4f87d_row1_col5 {\n",
       "  color: blue;\n",
       "  font-weight: bold;\n",
       "  background: #BAFFC9;\n",
       "}\n",
       "</style>\n",
       "<table id=\"T_4f87d\">\n",
       "  <thead>\n",
       "    <tr>\n",
       "      <th class=\"blank level0\" >&nbsp;</th>\n",
       "      <th id=\"T_4f87d_level0_col0\" class=\"col_heading level0 col0\" >age</th>\n",
       "      <th id=\"T_4f87d_level0_col1\" class=\"col_heading level0 col1\" >creatinine_phosphokinase</th>\n",
       "      <th id=\"T_4f87d_level0_col2\" class=\"col_heading level0 col2\" >ejection_fraction</th>\n",
       "      <th id=\"T_4f87d_level0_col3\" class=\"col_heading level0 col3\" >platelets</th>\n",
       "      <th id=\"T_4f87d_level0_col4\" class=\"col_heading level0 col4\" >serum_creatinine</th>\n",
       "      <th id=\"T_4f87d_level0_col5\" class=\"col_heading level0 col5\" >serum_sodium</th>\n",
       "    </tr>\n",
       "    <tr>\n",
       "      <th class=\"index_name level0\" >Keterangan</th>\n",
       "      <th class=\"blank col0\" >&nbsp;</th>\n",
       "      <th class=\"blank col1\" >&nbsp;</th>\n",
       "      <th class=\"blank col2\" >&nbsp;</th>\n",
       "      <th class=\"blank col3\" >&nbsp;</th>\n",
       "      <th class=\"blank col4\" >&nbsp;</th>\n",
       "      <th class=\"blank col5\" >&nbsp;</th>\n",
       "    </tr>\n",
       "  </thead>\n",
       "  <tbody>\n",
       "    <tr>\n",
       "      <th id=\"T_4f87d_level0_row0\" class=\"row_heading level0 row0\" >Dead</th>\n",
       "      <td id=\"T_4f87d_row0_col0\" class=\"data row0 col0\" >65.215281</td>\n",
       "      <td id=\"T_4f87d_row0_col1\" class=\"data row0 col1\" >670.197917</td>\n",
       "      <td id=\"T_4f87d_row0_col2\" class=\"data row0 col2\" >33.468750</td>\n",
       "      <td id=\"T_4f87d_row0_col3\" class=\"data row0 col3\" >256381.044792</td>\n",
       "      <td id=\"T_4f87d_row0_col4\" class=\"data row0 col4\" >1.835833</td>\n",
       "      <td id=\"T_4f87d_row0_col5\" class=\"data row0 col5\" >135.375000</td>\n",
       "    </tr>\n",
       "    <tr>\n",
       "      <th id=\"T_4f87d_level0_row1\" class=\"row_heading level0 row1\" >Alive</th>\n",
       "      <td id=\"T_4f87d_row1_col0\" class=\"data row1 col0\" >58.761906</td>\n",
       "      <td id=\"T_4f87d_row1_col1\" class=\"data row1 col1\" >540.054187</td>\n",
       "      <td id=\"T_4f87d_row1_col2\" class=\"data row1 col2\" >40.266010</td>\n",
       "      <td id=\"T_4f87d_row1_col3\" class=\"data row1 col3\" >266657.489901</td>\n",
       "      <td id=\"T_4f87d_row1_col4\" class=\"data row1 col4\" >1.184877</td>\n",
       "      <td id=\"T_4f87d_row1_col5\" class=\"data row1 col5\" >137.216749</td>\n",
       "    </tr>\n",
       "  </tbody>\n",
       "</table>\n"
      ],
      "text/plain": [
       "<pandas.io.formats.style.Styler at 0x27be439c3d0>"
      ]
     },
     "execution_count": 9,
     "metadata": {},
     "output_type": "execute_result"
    }
   ],
   "source": [
    "#coloring the table\n",
    "highlight=lambda x: ['background: #FFB3BA' if x.name in [\"Dead\"] else 'background: #BAFFC9' for i in x]\n",
    "dv1.style.apply(highlight_max).apply(highlight,axis=1)"
   ]
  },
  {
   "cell_type": "markdown",
   "metadata": {},
   "source": [
    "Berdasarkan tabel di atas, dapat dilihat bahwa:\n",
    "1. Pasien yang meninggal selama perawatan memiliki rata-rata usia, kadar creatinine phosphokinase, dan serum creatinine yang lebih tinggi dibandingkan dengan pasien yang tetap bertahan hidup\n",
    "2. Pasien yang meninggal selama perawatan memiliki rata-rata ejection fraction, platelets, dan serum sodium yang lebih rendah dibandingkan dengan pasien yang tetap bertahan hidup"
   ]
  },
  {
   "cell_type": "markdown",
   "metadata": {},
   "source": [
    "### <font color=#6C88C4> Compare Death Events of Complication Between Heart Failure and Another Factor"
   ]
  },
  {
   "cell_type": "markdown",
   "metadata": {},
   "source": [
    "**1. Anaemia**"
   ]
  },
  {
   "cell_type": "code",
   "execution_count": 10,
   "metadata": {},
   "outputs": [],
   "source": [
    "#Memisahkan dataframe anaemia = 0 dan anaemia = 1\n",
    "ay =df[df['anaemia'] == 1]\n",
    "an = df[df['anaemia'] == 0]"
   ]
  },
  {
   "cell_type": "markdown",
   "metadata": {},
   "source": [
    "Jika anaemia = 1, artinya pasien tersebut mengidap anaemia. Sebaliknya, jika anaemia = 0, artinya pasien tersebut tidak mengidap anaemia."
   ]
  },
  {
   "cell_type": "code",
   "execution_count": 11,
   "metadata": {
    "scrolled": true
   },
   "outputs": [
    {
     "data": {
      "image/png": "[encoded data removed]",
      "text/plain": [
       "<Figure size 720x360 with 1 Axes>"
      ]
     },
     "metadata": {
      "needs_background": "light"
     },
     "output_type": "display_data"
    }
   ],
   "source": [
    "data = {\"Dead\":[an['DEATH_EVENT'].value_counts()[1], ay['DEATH_EVENT'].value_counts()[1]],\n",
    "        \"Alive\":[an['DEATH_EVENT'].value_counts()[0], ay['DEATH_EVENT'].value_counts()[0]]\n",
    "        };\n",
    "\n",
    "index = [\"No Anaemia\", \"Anaemia\"];     \n",
    "\n",
    "dataFrame = pd.DataFrame(data=data, index=index);\n",
    "\n",
    "dataFrame.plot.bar(rot=0,title=\"Heart Failure Case and Anaemia\", color=['black','cornflowerblue'],figsize=(10,5));\n",
    "plt.gca().legend(loc='center left', bbox_to_anchor=(1, 0.5))\n",
    "plt.show(block=True);"
   ]
  },
  {
   "cell_type": "markdown",
   "metadata": {},
   "source": [
    "Jumlah pasien dengan penyakit gagal jantung lebih banyak bertahan hidup, baik ia memiliki penyakit anaemia ataupun tidak."
   ]
  },
  {
   "cell_type": "markdown",
   "metadata": {},
   "source": [
    "**2. Diabetes**"
   ]
  },
  {
   "cell_type": "code",
   "execution_count": 12,
   "metadata": {},
   "outputs": [],
   "source": [
    "#Memisahkan dataframe diabetes = 0 dan diabetes = 1\n",
    "dy =df[df['diabetes'] == 1]\n",
    "dn = df[df['diabetes'] == 0]"
   ]
  },
  {
   "cell_type": "markdown",
   "metadata": {},
   "source": [
    "Jika diabetes = 1, artinya pasien tersebut mengidap diabetes. Sebaliknya, jika diabetes = 0, artinya pasien tersebut tidak mengidap diabetes."
   ]
  },
  {
   "cell_type": "code",
   "execution_count": 13,
   "metadata": {},
   "outputs": [
    {
     "data": {
      "image/png": "[encoded data removed]",
      "text/plain": [
       "<Figure size 720x360 with 1 Axes>"
      ]
     },
     "metadata": {
      "needs_background": "light"
     },
     "output_type": "display_data"
    }
   ],
   "source": [
    "data = {\"Dead\":[dn['DEATH_EVENT'].value_counts()[1], dy['DEATH_EVENT'].value_counts()[1]],\n",
    "        \"Alive\":[dn['DEATH_EVENT'].value_counts()[0], dy['DEATH_EVENT'].value_counts()[0]]\n",
    "        };\n",
    "\n",
    "index = [\"No Diabetes\", \"Diabetes\"];     \n",
    "\n",
    "dataFrame = pd.DataFrame(data=data, index=index);\n",
    "\n",
    "dataFrame.plot.bar(rot=0,title=\"Heart Failure Case and Diabetes\", color=['black','cornflowerblue'],figsize=(10,5));\n",
    "plt.gca().legend(loc='center left', bbox_to_anchor=(1, 0.5))\n",
    "plt.show(block=True);"
   ]
  },
  {
   "cell_type": "markdown",
   "metadata": {},
   "source": [
    "Jumlah pasien dengan penyakit gagal jantung lebih banyak bertahan hidup, baik ia memiliki penyakit diabetes ataupun tidak."
   ]
  },
  {
   "cell_type": "markdown",
   "metadata": {},
   "source": [
    "**3. Tekanan Darah Tinggi**"
   ]
  },
  {
   "cell_type": "code",
   "execution_count": 14,
   "metadata": {},
   "outputs": [],
   "source": [
    "#Memisahkan dataframe high_blood_pressure = 0 dan high_blood_pressure = 1\n",
    "hy =df[df['high_blood_pressure'] == 1]\n",
    "hn = df[df['high_blood_pressure'] == 0]"
   ]
  },
  {
   "cell_type": "markdown",
   "metadata": {},
   "source": [
    "Jika high_blood_pressure = 1, artinya pasien tersebut mengidap tekanan darah tinggi. Sebaliknya, jika high_blood_pressure = 0, artinya pasien tersebut tidak mengidap tekanan darah tinggi."
   ]
  },
  {
   "cell_type": "code",
   "execution_count": 15,
   "metadata": {},
   "outputs": [
    {
     "data": {
      "image/png": "[encoded data removed]",
      "text/plain": [
       "<Figure size 720x360 with 1 Axes>"
      ]
     },
     "metadata": {
      "needs_background": "light"
     },
     "output_type": "display_data"
    }
   ],
   "source": [
    "data = {\"Dead\":[hn['DEATH_EVENT'].value_counts()[1], hy['DEATH_EVENT'].value_counts()[1]],\n",
    "        \"Alive\":[hn['DEATH_EVENT'].value_counts()[0], hy['DEATH_EVENT'].value_counts()[0]]\n",
    "        };\n",
    "\n",
    "index = [\"No High Blood Pressure\", \"High Blood Pressure\"];     \n",
    "\n",
    "dataFrame = pd.DataFrame(data=data, index=index);\n",
    "\n",
    "dataFrame.plot.bar(rot=0,title=\"Heart Failure Case and High Blood Pressure\", color=['black','cornflowerblue'],figsize=(10,5));\n",
    "plt.gca().legend(loc='center left', bbox_to_anchor=(1, 0.5))\n",
    "plt.show(block=True);"
   ]
  },
  {
   "cell_type": "markdown",
   "metadata": {},
   "source": [
    "Jumlah pasien dengan penyakit gagal jantung lebih banyak bertahan hidup, baik ia memiliki riwayat tekanan darah tinggi ataupun tidak."
   ]
  },
  {
   "cell_type": "markdown",
   "metadata": {},
   "source": [
    "**4. Smoke**"
   ]
  },
  {
   "cell_type": "code",
   "execution_count": 16,
   "metadata": {},
   "outputs": [],
   "source": [
    "#Memisahkan dataframe smoking = 0 dan smoking = 1\n",
    "sy =df[df['smoking'] == 1]\n",
    "sn = df[df['smoking'] == 0]"
   ]
  },
  {
   "cell_type": "markdown",
   "metadata": {},
   "source": [
    "Jika smoking = 1, artinya pasien merupakan perokok. Sebaliknya, jika high_blood_pressure = 0, artinya pasien tersebut bukan perokok."
   ]
  },
  {
   "cell_type": "code",
   "execution_count": 17,
   "metadata": {},
   "outputs": [
    {
     "data": {
      "image/png": "[encoded data removed]",
      "text/plain": [
       "<Figure size 720x360 with 1 Axes>"
      ]
     },
     "metadata": {
      "needs_background": "light"
     },
     "output_type": "display_data"
    }
   ],
   "source": [
    "data = {\"Dead\":[sn['DEATH_EVENT'].value_counts()[1], sy['DEATH_EVENT'].value_counts()[1]],\n",
    "        \"Alive\":[sn['DEATH_EVENT'].value_counts()[0], sy['DEATH_EVENT'].value_counts()[0]]\n",
    "        };\n",
    "\n",
    "index = [\"Non Smoker\", \"Smoker\"];     \n",
    "\n",
    "dataFrame = pd.DataFrame(data=data, index=index);\n",
    "\n",
    "dataFrame.plot.bar(rot=0,title=\"Heart Failure Case and Smoking\", color=['black','cornflowerblue'],figsize=(10,5));\n",
    "plt.gca().legend(loc='center left', bbox_to_anchor=(1, 0.5))\n",
    "plt.show(block=True)"
   ]
  },
  {
   "cell_type": "markdown",
   "metadata": {},
   "source": [
    "Jumlah pasien dengan penyakit gagal jantung lebih banyak bertahan hidup, baik ia merupakan perokok ataupun tidak."
   ]
  },
  {
   "cell_type": "markdown",
   "metadata": {},
   "source": [
    "**Proporsi Faktor Lain Pada Kasus Kematian Akibat Gagal Jantung**"
   ]
  },
  {
   "cell_type": "code",
   "execution_count": 18,
   "metadata": {
    "scrolled": true
   },
   "outputs": [
    {
     "data": {
      "text/html": [
       "<div>\n",
       "<style scoped>\n",
       "    .dataframe tbody tr th:only-of-type {\n",
       "        vertical-align: middle;\n",
       "    }\n",
       "\n",
       "    .dataframe tbody tr th {\n",
       "        vertical-align: top;\n",
       "    }\n",
       "\n",
       "    .dataframe thead th {\n",
       "        text-align: right;\n",
       "    }\n",
       "</style>\n",
       "<table border=\"1\" class=\"dataframe\">\n",
       "  <thead>\n",
       "    <tr style=\"text-align: right;\">\n",
       "      <th></th>\n",
       "      <th>Factors</th>\n",
       "      <th>Values</th>\n",
       "    </tr>\n",
       "  </thead>\n",
       "  <tbody>\n",
       "    <tr>\n",
       "      <th>0</th>\n",
       "      <td>Anaemia</td>\n",
       "      <td>46</td>\n",
       "    </tr>\n",
       "    <tr>\n",
       "      <th>1</th>\n",
       "      <td>Diabetes</td>\n",
       "      <td>40</td>\n",
       "    </tr>\n",
       "    <tr>\n",
       "      <th>2</th>\n",
       "      <td>High Blood Pressure</td>\n",
       "      <td>39</td>\n",
       "    </tr>\n",
       "    <tr>\n",
       "      <th>3</th>\n",
       "      <td>Smoking</td>\n",
       "      <td>30</td>\n",
       "    </tr>\n",
       "    <tr>\n",
       "      <th>4</th>\n",
       "      <td>Without Other Factor</td>\n",
       "      <td>13</td>\n",
       "    </tr>\n",
       "  </tbody>\n",
       "</table>\n",
       "</div>"
      ],
      "text/plain": [
       "                Factors  Values\n",
       "0               Anaemia      46\n",
       "1              Diabetes      40\n",
       "2   High Blood Pressure      39\n",
       "3               Smoking      30\n",
       "4  Without Other Factor      13"
      ]
     },
     "execution_count": 18,
     "metadata": {},
     "output_type": "execute_result"
    }
   ],
   "source": [
    "#Create new dataframe based on dead cases of heart failure\n",
    "dead = pd.DataFrame({'Factors':['Anaemia','Diabetes','High Blood Pressure','Smoking','Without Other Factor'],\n",
    "                     'Values':[yes['anaemia'].value_counts()[1], \n",
    "                               yes['diabetes'].value_counts()[1],\n",
    "                               yes['high_blood_pressure'].value_counts()[1],\n",
    "                               yes['smoking'].value_counts()[1],\n",
    "                              yes[(yes[\"anaemia\"]==0) & (yes[\"diabetes\"]==0)& (yes[\"high_blood_pressure\"]==0)& (yes[\"smoking\"]==0)]['anaemia'].value_counts()[0]]})\n",
    "dead"
   ]
  },
  {
   "cell_type": "code",
   "execution_count": 19,
   "metadata": {},
   "outputs": [],
   "source": [
    "#Define color for the pie chart\n",
    "colors1 = sns.color_palette(\"Spectral\",5)"
   ]
  },
  {
   "cell_type": "code",
   "execution_count": 20,
   "metadata": {},
   "outputs": [
    {
     "data": {
      "image/png": "[encoded data removed]",
      "text/plain": [
       "<Figure size 864x504 with 1 Axes>"
      ]
     },
     "metadata": {},
     "output_type": "display_data"
    }
   ],
   "source": [
    "#Construct pie chart\n",
    "dead.Values.plot(kind='pie',figsize=(12, 7),autopct='%1.2f%%',startangle=90,shadow=True,subplots=True, colors=colors1,\n",
    "           textprops={'fontsize': 10},labels=dead.Factors,legend=False,wedgeprops={'linewidth': 2.0, 'edgecolor': 'white'})\n",
    "plt.title('Proporsi Faktor Lain Pada Pasien Meninggal Akibat Gagal Jantung', loc='center',size ='15')\n",
    "plt.axis('off')\n",
    "plt.show()"
   ]
  },
  {
   "cell_type": "markdown",
   "metadata": {},
   "source": [
    "Jumlah pasien dengan penyakit gagal jantung yang meninggal selama perawatan paling banyak merupakan pengidap anaemia (27,38%), diikuti oleh diabetes (23.81%), memiliki darah tinggi (23.21%), dan merupakan perokok (17.86%). Sedangkan yang paling sedikit proporsinya adalah orang yang murni meninggal karena gagal jantung tanpa disertai faktor lainnya (7.74%)."
   ]
  },
  {
   "cell_type": "markdown",
   "metadata": {},
   "source": [
    "### <font color=#6C88C4> Compare Death Events Based on Gender"
   ]
  },
  {
   "cell_type": "code",
   "execution_count": 21,
   "metadata": {},
   "outputs": [],
   "source": [
    "#Grouping death cases by the sex\n",
    "gender = yes.groupby(['sex'],as_index=True).agg({'sex':'count'}, index=False)"
   ]
  },
  {
   "cell_type": "code",
   "execution_count": 22,
   "metadata": {},
   "outputs": [],
   "source": [
    "#Define color for the pie chart\n",
    "colors2 = ['coral','royalblue']"
   ]
  },
  {
   "cell_type": "code",
   "execution_count": 23,
   "metadata": {},
   "outputs": [
    {
     "data": {
      "image/png": "[encoded data removed]",
      "text/plain": [
       "<Figure size 864x504 with 1 Axes>"
      ]
     },
     "metadata": {},
     "output_type": "display_data"
    }
   ],
   "source": [
    "gender.plot(kind='pie',figsize=(12, 7),autopct='%1.2f%%',startangle=90,shadow=True,subplots=True,colors=colors2,\n",
    "           textprops={'fontsize': 10},labels=['Female','Male'],legend=False,wedgeprops={'linewidth': 2.0, 'edgecolor': 'white'})\n",
    "plt.title('Proporsi Gender Pasien Meninggal Akibat Gagal Jantung', loc='center',size ='15')\n",
    "plt.axis('off')\n",
    "plt.show()"
   ]
  },
  {
   "cell_type": "markdown",
   "metadata": {},
   "source": [
    "Pasien yang meninggal akibat gagal jantung sebagian besar merupakan pria (64,58%), sedangkan wanita hanya 35,42%."
   ]
  },
  {
   "cell_type": "markdown",
   "metadata": {},
   "source": [
    "## <font color=#FF7913>F. Data Preprocessing"
   ]
  },
  {
   "cell_type": "markdown",
   "metadata": {},
   "source": [
    "### <font color=#6C88C4> Split Data"
   ]
  },
  {
   "cell_type": "markdown",
   "metadata": {},
   "source": [
    "Data yang akan digunakan untuk training adalah sebesar 75%, sedangkan 25% sisanya digunakan untuk testing"
   ]
  },
  {
   "cell_type": "code",
   "execution_count": 24,
   "metadata": {},
   "outputs": [],
   "source": [
    "train, test = train_test_split(df, test_size=0.25, random_state=2)"
   ]
  },
  {
   "cell_type": "markdown",
   "metadata": {},
   "source": [
    "Pada analisis ini, kelompok kami menggunakan 12 atribut dari dataframe untuk metode Random Forest karena hasil akurasi dari modelnya sudah cukup akurat (> 90%)."
   ]
  },
  {
   "cell_type": "code",
   "execution_count": 25,
   "metadata": {},
   "outputs": [],
   "source": [
    "x_train = train.drop(['DEATH_EVENT'],axis=1)\n",
    "y_train = train[['DEATH_EVENT']]"
   ]
  },
  {
   "cell_type": "code",
   "execution_count": 26,
   "metadata": {},
   "outputs": [],
   "source": [
    "x_test = test.drop(['DEATH_EVENT'],axis=1)\n",
    "y_test = test[['DEATH_EVENT']]"
   ]
  },
  {
   "cell_type": "markdown",
   "metadata": {},
   "source": [
    "## <font color='Maroon'> Random Forest"
   ]
  },
  {
   "cell_type": "markdown",
   "metadata": {},
   "source": [
    "### <font color=#FF7913> 1. Pendefinisian dan Pelatihan Model"
   ]
  },
  {
   "cell_type": "markdown",
   "metadata": {},
   "source": [
    "#### <font color=#6C88C4> Create and Fit Model"
   ]
  },
  {
   "cell_type": "code",
   "execution_count": 27,
   "metadata": {},
   "outputs": [],
   "source": [
    "rf = RandomForestClassifier(n_estimators=100)"
   ]
  },
  {
   "cell_type": "markdown",
   "metadata": {},
   "source": [
    "#### <font color=#6C88C4> Train the model using the training data"
   ]
  },
  {
   "cell_type": "code",
   "execution_count": 28,
   "metadata": {},
   "outputs": [
    {
     "data": {
      "text/plain": [
       "RandomForestClassifier()"
      ]
     },
     "execution_count": 28,
     "metadata": {},
     "output_type": "execute_result"
    }
   ],
   "source": [
    "rf.fit(x_train,y_train)"
   ]
  },
  {
   "cell_type": "markdown",
   "metadata": {},
   "source": [
    "### <font color=#FF7913> 2. Evaluasi Model"
   ]
  },
  {
   "cell_type": "markdown",
   "metadata": {},
   "source": [
    "#### <font color=#6C88C4> Get Results"
   ]
  },
  {
   "cell_type": "markdown",
   "metadata": {},
   "source": [
    "**Predict the testing data using the model**"
   ]
  },
  {
   "cell_type": "code",
   "execution_count": 29,
   "metadata": {},
   "outputs": [],
   "source": [
    "y_pred = rf.predict(x_test)"
   ]
  },
  {
   "cell_type": "markdown",
   "metadata": {},
   "source": [
    "**Model Accuration**"
   ]
  },
  {
   "cell_type": "code",
   "execution_count": 30,
   "metadata": {
    "scrolled": true
   },
   "outputs": [
    {
     "name": "stdout",
     "output_type": "stream",
     "text": [
      "Accuracy: 0.9333333333333333\n"
     ]
    }
   ],
   "source": [
    "print('Accuracy:', metrics.accuracy_score(y_test, y_pred))"
   ]
  },
  {
   "cell_type": "markdown",
   "metadata": {},
   "source": [
    "**Tingkat akurasi dari model di atas adalah 93,33%**"
   ]
  },
  {
   "cell_type": "markdown",
   "metadata": {},
   "source": [
    "#### <font color='cornflowerblue'>Confusion Matrix"
   ]
  },
  {
   "cell_type": "code",
   "execution_count": 31,
   "metadata": {
    "scrolled": true
   },
   "outputs": [
    {
     "data": {
      "image/png": "[encoded data removed]",
      "text/plain": [
       "<Figure size 288x288 with 1 Axes>"
      ]
     },
     "metadata": {
      "needs_background": "light"
     },
     "output_type": "display_data"
    }
   ],
   "source": [
    "cm = confusion_matrix(y_test, y_pred)\n",
    "fig, ax = plt.subplots(figsize=(4,4))\n",
    "ax.imshow(cm)\n",
    "ax.grid(False)\n",
    "ax.xaxis.set(ticks=(0,1), ticklabels=('Positive','Negative'))\n",
    "ax.yaxis.set(ticks=(0,1), ticklabels=('Positive','Negative'))\n",
    "ax.set_ylim(1.5,-0.5)\n",
    "\n",
    "for i in range(2):\n",
    "    for j in range(2):\n",
    "        ax.text(j,i, cm[i,j], ha='center',va='center',color='red')\n",
    "\n",
    "plt.show()"
   ]
  },
  {
   "cell_type": "markdown",
   "metadata": {},
   "source": [
    "**Confusion matrix di atas menunjukkan bahwa True Positive (53) > False Positive (1) dan False Negative (4) < True Negative (17).**"
   ]
  },
  {
   "cell_type": "markdown",
   "metadata": {},
   "source": [
    "### <font color=#FF7913> 3. Model Inference"
   ]
  },
  {
   "cell_type": "markdown",
   "metadata": {},
   "source": [
    "#### <font color=#6C88C4> Get Results"
   ]
  },
  {
   "cell_type": "markdown",
   "metadata": {},
   "source": [
    "**Predict the testing data using the new data**"
   ]
  },
  {
   "cell_type": "code",
   "execution_count": 32,
   "metadata": {
    "scrolled": false
   },
   "outputs": [
    {
     "data": {
      "text/html": [
       "<div>\n",
       "<style scoped>\n",
       "    .dataframe tbody tr th:only-of-type {\n",
       "        vertical-align: middle;\n",
       "    }\n",
       "\n",
       "    .dataframe tbody tr th {\n",
       "        vertical-align: top;\n",
       "    }\n",
       "\n",
       "    .dataframe thead th {\n",
       "        text-align: right;\n",
       "    }\n",
       "</style>\n",
       "<table border=\"1\" class=\"dataframe\">\n",
       "  <thead>\n",
       "    <tr style=\"text-align: right;\">\n",
       "      <th></th>\n",
       "      <th>age</th>\n",
       "      <th>anaemia</th>\n",
       "      <th>creatinine_phosphokinase</th>\n",
       "      <th>diabetes</th>\n",
       "      <th>ejection_fraction</th>\n",
       "      <th>high_blood_pressure</th>\n",
       "      <th>platelets</th>\n",
       "      <th>serum_creatinine</th>\n",
       "      <th>serum_sodium</th>\n",
       "      <th>sex</th>\n",
       "      <th>smoking</th>\n",
       "      <th>time</th>\n",
       "    </tr>\n",
       "  </thead>\n",
       "  <tbody>\n",
       "    <tr>\n",
       "      <th>0</th>\n",
       "      <td>50</td>\n",
       "      <td>0</td>\n",
       "      <td>583</td>\n",
       "      <td>1</td>\n",
       "      <td>35</td>\n",
       "      <td>1</td>\n",
       "      <td>264000.0</td>\n",
       "      <td>1.9</td>\n",
       "      <td>136</td>\n",
       "      <td>1</td>\n",
       "      <td>0</td>\n",
       "      <td>241</td>\n",
       "    </tr>\n",
       "    <tr>\n",
       "      <th>1</th>\n",
       "      <td>63</td>\n",
       "      <td>1</td>\n",
       "      <td>600</td>\n",
       "      <td>1</td>\n",
       "      <td>30</td>\n",
       "      <td>0</td>\n",
       "      <td>264512.0</td>\n",
       "      <td>2.5</td>\n",
       "      <td>134</td>\n",
       "      <td>1</td>\n",
       "      <td>0</td>\n",
       "      <td>207</td>\n",
       "    </tr>\n",
       "    <tr>\n",
       "      <th>2</th>\n",
       "      <td>70</td>\n",
       "      <td>1</td>\n",
       "      <td>754</td>\n",
       "      <td>1</td>\n",
       "      <td>25</td>\n",
       "      <td>0</td>\n",
       "      <td>254333.0</td>\n",
       "      <td>1.6</td>\n",
       "      <td>120</td>\n",
       "      <td>1</td>\n",
       "      <td>0</td>\n",
       "      <td>198</td>\n",
       "    </tr>\n",
       "  </tbody>\n",
       "</table>\n",
       "</div>"
      ],
      "text/plain": [
       "   age  anaemia  creatinine_phosphokinase  diabetes  ejection_fraction  \\\n",
       "0   50        0                       583         1                 35   \n",
       "1   63        1                       600         1                 30   \n",
       "2   70        1                       754         1                 25   \n",
       "\n",
       "   high_blood_pressure  platelets  serum_creatinine  serum_sodium  sex  \\\n",
       "0                    1   264000.0               1.9           136    1   \n",
       "1                    0   264512.0               2.5           134    1   \n",
       "2                    0   254333.0               1.6           120    1   \n",
       "\n",
       "   smoking  time  \n",
       "0        0   241  \n",
       "1        0   207  \n",
       "2        0   198  "
      ]
     },
     "execution_count": 32,
     "metadata": {},
     "output_type": "execute_result"
    }
   ],
   "source": [
    "new_df = pd.DataFrame({'age':[50,63,70],\n",
    "                     'anaemia':[0,1,1],\n",
    "                    'creatinine_phosphokinase':[583,600,754],\n",
    "                    'diabetes':[1,1,1],\n",
    "                    'ejection_fraction':[35,30,25],\n",
    "                    'high_blood_pressure':[1,0,0],\n",
    "                    'platelets':[264000.00,264512.00,254333.00],\n",
    "                    'serum_creatinine':[1.9,2.5,1.6],\n",
    "                    'serum_sodium':[136,134,120],\n",
    "                    'sex':[1,1,1],\n",
    "                    'smoking':[0,0,0],\n",
    "                    'time':[241,207,198]})\n",
    "new_df"
   ]
  },
  {
   "cell_type": "markdown",
   "metadata": {},
   "source": [
    "**Hasil Prediksi dari Data Baru**"
   ]
  },
  {
   "cell_type": "code",
   "execution_count": 33,
   "metadata": {},
   "outputs": [
    {
     "data": {
      "text/plain": [
       "array([0, 0, 0], dtype=int64)"
      ]
     },
     "execution_count": 33,
     "metadata": {},
     "output_type": "execute_result"
    }
   ],
   "source": [
    "y_pred = rf.predict(new_df)\n",
    "y_pred"
   ]
  },
  {
   "cell_type": "markdown",
   "metadata": {},
   "source": [
    "## <font color=#FF7913> G. Pengambilan Kesimpulan"
   ]
  },
  {
   "cell_type": "markdown",
   "metadata": {},
   "source": [
    "1. Pasien yang meninggal selama perawatan memiliki rata-rata usia, kadar creatinine phosphokinase, dan serum creatinine yang lebih tinggi dibandingkan dengan pasien yang tetap bertahan hidup\n",
    "2. Pasien yang meninggal selama perawatan memiliki rata-rata ejection fraction, platelets, dan serum sodium yang lebih rendah dibandingkan dengan pasien yang tetap bertahan hidup\n",
    "3. Jumlah pasien dengan penyakit gagal jantung yang meninggal selama perawatan paling banyak merupakan pengidap anaemia (27,38%), diikuti oleh diabetes (23.81%), memiliki darah tinggi (23.21%), dan merupakan perokok (17.86%). Sedangkan yang paling sedikit proporsinya adalah orang yang murni meninggal karena gagal jantung tanpa disertai faktor lainnya (7.74%).\n",
    "4. Pasien yang meninggal akibat gagal jantung sebagian besar merupakan pria (64,58%), sedangkan wanita hanya 35,42%\n",
    "5. Penggunaan random forest classifier pada data ini menghasilnya akurasi sebesar 93.33% sehingga dapat dikatakan cukup akurat."
   ]
  }
 ],
 "metadata": {
  "kernelspec": {
   "display_name": "Python 3 (ipykernel)",
   "language": "python",
   "name": "python3"
  },
  "language_info": {
   "codemirror_mode": {
    "name": "ipython",
    "version": 3
   },
   "file_extension": ".py",
   "mimetype": "text/x-python",
   "name": "python",
   "nbconvert_exporter": "python",
   "pygments_lexer": "ipython3",
   "version": "3.9.12"
  }
 },
 "nbformat": 4,
 "nbformat_minor": 4
}
